{
 "cells": [
  {
   "cell_type": "code",
   "execution_count": 1,
   "id": "7632263f",
   "metadata": {},
   "outputs": [
    {
     "name": "stderr",
     "output_type": "stream",
     "text": [
      "c:\\Users\\DELL\\AppData\\Local\\Programs\\Python\\Python310\\lib\\importlib\\__init__.py:126: LangChainDeprecationWarning: As of langchain-core 0.3.0, LangChain uses pydantic v2 internally. The langchain_core.pydantic_v1 module was a compatibility shim for pydantic v1, and should no longer be used. Please update the code to import from Pydantic directly.\n",
      "\n",
      "For example, replace imports like: `from langchain_core.pydantic_v1 import BaseModel`\n",
      "with: `from pydantic import BaseModel`\n",
      "or the v1 compatibility namespace if you are working in a code base that has not been fully upgraded to pydantic 2 yet. \tfrom pydantic.v1 import BaseModel\n",
      "\n",
      "  return _bootstrap._gcd_import(name[level:], package, level)\n",
      "c:\\Users\\DELL\\AppData\\Local\\Programs\\Python\\Python310\\lib\\site-packages\\IPython\\core\\interactiveshell.py:3460: LangChainDeprecationWarning: As of langchain-core 0.3.0, LangChain uses pydantic v2 internally. The langchain.pydantic_v1 module was a compatibility shim for pydantic v1, and should no longer be used. Please update the code to import from Pydantic directly.\n",
      "\n",
      "For example, replace imports like: `from langchain.pydantic_v1 import BaseModel`\n",
      "with: `from pydantic import BaseModel`\n",
      "or the v1 compatibility namespace if you are working in a code base that has not been fully upgraded to pydantic 2 yet. \tfrom pydantic.v1 import BaseModel\n",
      "\n",
      "  exec(code_obj, self.user_global_ns, self.user_ns)\n"
     ]
    },
    {
     "name": "stdout",
     "output_type": "stream",
     "text": [
      "Wikipedia Search Agent for destination location is ready.\n",
      "\n",
      "\n",
      "\u001b[1m> Entering new AgentExecutor chain...\u001b[0m\n",
      "\u001b[32;1m\u001b[1;3m\n",
      "Invoking: `wikipedia_search` with `{'query': 'Ski Dubai'}`\n",
      "\n",
      "\n",
      "\u001b[0m\u001b[36;1m\u001b[1;3mPage: Ski Dubai\n",
      "Summary: Ski Dubai is an indoor ski resort with 22,500 square meters of indoor ski area. The park maintains a temperature of −1 to 2 °C (30 to 36 °F) throughout the year. It is a part of the Mall of the Emirates, one of the largest shopping malls in the world, located in Dubai, United Arab Emirates.\u001b[0m\u001b[32;1m\u001b[1;3mSki Dubai is an indoor ski resort covering 22,500 square meters. It maintains a temperature of -1 to 2 °C (30 to 36 °F) year-round and is located within the Mall of the Emirates in Dubai, United Arab Emirates.\u001b[0m\n",
      "\n",
      "\u001b[1m> Finished chain.\u001b[0m\n",
      "{'input': 'Ski Dubai', 'output': 'Ski Dubai is an indoor ski resort covering 22,500 square meters. It maintains a temperature of -1 to 2 °C (30 to 36 °F) year-round and is located within the Mall of the Emirates in Dubai, United Arab Emirates.'}\n"
     ]
    }
   ],
   "source": [
    "import requests\n",
    "from langchain_community.utilities import WikipediaAPIWrapper\n",
    "from langchain.pydantic_v1 import BaseModel, Field\n",
    "from langchain.tools import StructuredTool\n",
    "from langchain_core.prompts import ChatPromptTemplate\n",
    "from langchain.agents import create_tool_calling_agent, AgentExecutor\n",
    "from dotenv import load_dotenv\n",
    "from langchain_google_genai import ChatGoogleGenerativeAI\n",
    "import os\n",
    "load_dotenv()\n",
    "\n",
    "GEMINI_API_KEY = os.getenv(\"GOOGLE_API_KEY\")\n",
    "\n",
    "api_wrapper = WikipediaAPIWrapper(top_k_results=1)\n",
    "\n",
    "# Define a function to call Wikipedia with limited output\n",
    "def wikipedia_caller(query: str) -> str:\n",
    "    \"\"\"This function queries Wikipedia and returns a condensed summary.\"\"\"\n",
    "    full_summary = api_wrapper.run(query)\n",
    "\n",
    "    # Extract the first few sentences to condense the response\n",
    "    important_sentences = \". \".join(full_summary.split(\". \")[:3]) + \".\"  # First 3 sentences\n",
    "\n",
    "    return important_sentences\n",
    "\n",
    "# Define input parameters for the Wikipedia tool\n",
    "class QueryInput(BaseModel):\n",
    "    query: str = Field(description=\"Input search query\")\n",
    "\n",
    "# Describe the tool's purpose\n",
    "description = (\n",
    "    \"A tool that searches Wikipedia. \"\n",
    "    \"Useful for answering general questions about people, places, companies, facts, historical events, or other subjects.\"\n",
    ")\n",
    "\n",
    "# Create a structured tool for Wikipedia search\n",
    "wiki_tool = StructuredTool.from_function(\n",
    "    func=wikipedia_caller,\n",
    "    name=\"wikipedia_search\",\n",
    "    description=description,\n",
    "    args_schema=QueryInput,\n",
    "    return_direct=False,\n",
    ")\n",
    "\n",
    "llm = ChatGoogleGenerativeAI(\n",
    "    model=\"gemini-2.5-flash\",\n",
    ")\n",
    "\n",
    "\n",
    "\n",
    "template = \"\"\"You are a helpful assistant specialized in searching information about destination locations.\n",
    "{input}\n",
    "{agent_scratchpad}\"\"\"\n",
    "prompt = ChatPromptTemplate.from_template(template=template)\n",
    "tools = [wiki_tool]\n",
    "agent = create_tool_calling_agent(llm=llm, tools=tools, prompt=prompt)\n",
    "agent_executor = AgentExecutor(agent=agent, tools=tools, verbose=True)\n",
    "\n",
    "print(\"Wikipedia Search Agent for destination location is ready.\")\n",
    "\n",
    "question = input(\"Enter destination location: \")\n",
    "response = agent_executor.invoke({\"input\": question})\n",
    "print(f\"{response}\")\n"
   ]
  }
 ],
 "metadata": {
  "kernelspec": {
   "display_name": "Python 3",
   "language": "python",
   "name": "python3"
  },
  "language_info": {
   "codemirror_mode": {
    "name": "ipython",
    "version": 3
   },
   "file_extension": ".py",
   "mimetype": "text/x-python",
   "name": "python",
   "nbconvert_exporter": "python",
   "pygments_lexer": "ipython3",
   "version": "3.10.4"
  }
 },
 "nbformat": 4,
 "nbformat_minor": 5
}
